{
  "nbformat": 4,
  "nbformat_minor": 0,
  "metadata": {
    "colab": {
      "name": "newPrediction.ipynb",
      "provenance": [],
      "collapsed_sections": [],
      "authorship_tag": "ABX9TyO8CpHXrzmI8SWO9TNiAM0O",
      "include_colab_link": true
    },
    "kernelspec": {
      "name": "python3",
      "display_name": "Python 3"
    },
    "language_info": {
      "name": "python"
    }
  },
  "cells": [
    {
      "cell_type": "markdown",
      "metadata": {
        "id": "view-in-github",
        "colab_type": "text"
      },
      "source": [
        "<a href=\"https://colab.research.google.com/github/sai8e/StockMarketProject/blob/main/Stock%20Predictor%20using%20fbprophet.ipynb\" target=\"_parent\"><img src=\"https://colab.research.google.com/assets/colab-badge.svg\" alt=\"Open In Colab\"/></a>"
      ]
    },
    {
      "cell_type": "code",
      "metadata": {
        "id": "UrLsm3qXFU9C"
      },
      "source": [
        "!pip install fbprophet\n",
        "!pip install plotly\n",
        "!pip install streamlit\n",
        "!pip install yfinance\n"
      ],
      "execution_count": null,
      "outputs": []
    },
    {
      "cell_type": "code",
      "metadata": {
        "colab": {
          "base_uri": "https://localhost:8080/"
        },
        "id": "Q2ahKRlFKWiQ",
        "outputId": "e0704b32-2fd2-4e99-8b2c-d0fea536af8d"
      },
      "source": [
        "%%writefile stock.py\n",
        "import streamlit as st\n",
        "from datetime import date\n",
        "import yfinance as yf\n",
        "from fbprophet import Prophet\n",
        "from fbprophet.plot import plot_plotly\n",
        "from plotly import graph_objs as go \n",
        "\n",
        "Start = \"2015-01-01\"\n",
        "Today = date.today().strftime(\"%Y-%m-%d\")\n",
        "\n",
        "st.title(\"Stock Prediction App\")\n",
        "\n",
        "\n",
        "stock = st.text_input(\"Choose a Stock to Predict\", \"TSLA\")\n",
        "#stocks = (\"AAPL\", \"GOOG\", \"MSFT\", \"GME\")\n",
        "#selected_stock = st.selectbox(\"Select dataset for prediction\", stocks)\n",
        "\n",
        "n_days = st.slider(\"Weeks to predict:\",1 , 5)\n",
        "period = n_days *365\n",
        "\n",
        "\n",
        "@st.cache\n",
        "def load_data(ticker):\n",
        "    data = yf.download(ticker, Start, Today)\n",
        "    data.reset_index(inplace=True)\n",
        "    return data\n",
        "\n",
        "data_load_state = st.text(\"Load data...\")\n",
        "data = load_data(stock)\n",
        "data_load_state.text(\"Loading data...Done\")\n",
        "\n",
        "st.subheader('Raw Data')\n",
        "st.write(data.tail())\n",
        "\n",
        "def plot_raw_data():\n",
        "  fig = go.Figure()\n",
        "  fig.add_trace(go.Scatter(x=data['Date'],y = data['Open'],name = 'stock_open'))\n",
        "  fig.add_trace(go.Scatter(x=data['Date'],y = data['Close'],name = 'stock_close'))\n",
        "  fig.layout.update(title_text='Time serious Data', xaxis_rangeslider_visible=True)\n",
        "  st.plotly_chart(fig)\n",
        "\n",
        "plot_raw_data()\n",
        "\n",
        "# Forecast\n",
        "df_train = data[['Date','Close']]\n",
        "df_train = df_train.rename(columns={\"Date\": \"ds\", \"Close\": \"y\"})\n",
        "\n",
        "m = Prophet()\n",
        "m.fit(df_train)\n",
        "future = m.make_future_dataframe(periods=period)\n",
        "forecast = m.predict(future)\n",
        "\n",
        "st.subheader('Forecast data')\n",
        "st.write(forecast.tail())\n",
        "\n",
        "\n",
        "st.write(\"forecast data\")\n",
        "fig1 = plot_plotly(m, forecast)\n",
        "st.plotly_chart(fig1)\n",
        "\n",
        "st.write('Forecast Component')\n",
        "fig2 = m.plot_components(forecast)\n",
        "st.write(fig2)\n",
        "\n",
        "\n",
        "\n",
        "\n"
      ],
      "execution_count": 59,
      "outputs": [
        {
          "output_type": "stream",
          "name": "stdout",
          "text": [
            "Writing stock.py\n"
          ]
        }
      ]
    },
    {
      "cell_type": "code",
      "metadata": {
        "colab": {
          "base_uri": "https://localhost:8080/"
        },
        "id": "TYrOW2ZvQxBK",
        "outputId": "97fe3c20-b784-46f4-bf90-472eb2d35fae"
      },
      "source": [
        "!streamlit run stock.py & npx localtunnel --port 8501"
      ],
      "execution_count": 60,
      "outputs": [
        {
          "output_type": "stream",
          "name": "stdout",
          "text": [
            "\u001b[0m\n",
            "\u001b[34m\u001b[1m  You can now view your Streamlit app in your browser.\u001b[0m\n",
            "\u001b[0m\n",
            "\u001b[34m  Network URL: \u001b[0m\u001b[1mhttp://172.28.0.2:8501\u001b[0m\n",
            "\u001b[34m  External URL: \u001b[0m\u001b[1mhttp://34.71.216.37:8501\u001b[0m\n",
            "\u001b[0m\n",
            "\u001b[K\u001b[?25hnpx: installed 22 in 3.062s\n",
            "your url is: https://pink-robin-93.loca.lt\n",
            "2021-11-15 21:47:02.616 NumExpr defaulting to 2 threads.\n",
            "[*********************100%***********************]  1 of 1 completed\n",
            "2021-11-15 21:47:04.664 Disabling daily seasonality. Run prophet with daily_seasonality=True to override this.\n",
            "Initial log joint probability = -101.517\n",
            "    Iter      log prob        ||dx||      ||grad||       alpha      alpha0  # evals  Notes \n",
            "      99       4476.79     0.0087782       186.453           1           1      116   \n",
            "    Iter      log prob        ||dx||      ||grad||       alpha      alpha0  # evals  Notes \n",
            "     199       4508.42    0.00208422       342.169           1           1      231   \n",
            "    Iter      log prob        ||dx||      ||grad||       alpha      alpha0  # evals  Notes \n",
            "     299       4514.11    0.00147382       291.948      0.7434      0.7434      350   \n",
            "    Iter      log prob        ||dx||      ||grad||       alpha      alpha0  # evals  Notes \n",
            "     399       4522.79    0.00290084       78.2925           1           1      470   \n",
            "    Iter      log prob        ||dx||      ||grad||       alpha      alpha0  # evals  Notes \n",
            "     483       4523.97    0.00030602       225.343   3.654e-06       0.001      629  LS failed, Hessian reset \n",
            "     499       4524.04   0.000169809       108.244           1           1      647   \n",
            "    Iter      log prob        ||dx||      ||grad||       alpha      alpha0  # evals  Notes \n",
            "     525       4524.07   3.64002e-05       76.2349   5.052e-07       0.001      713  LS failed, Hessian reset \n",
            "     595       4524.11   6.09149e-05        101.07   4.076e-07       0.001      839  LS failed, Hessian reset \n",
            "     599       4524.11    1.5335e-05       62.1323           1           1      844   \n",
            "    Iter      log prob        ||dx||      ||grad||       alpha      alpha0  # evals  Notes \n",
            "     694       4524.13   5.19367e-08       80.5496      0.0772       0.259      973   \n",
            "Optimization terminated normally: \n",
            "  Convergence detected: relative gradient magnitude is below tolerance\n",
            "\u001b[34m  Stopping...\u001b[0m\n",
            "^C\n"
          ]
        }
      ]
    }
  ]
}