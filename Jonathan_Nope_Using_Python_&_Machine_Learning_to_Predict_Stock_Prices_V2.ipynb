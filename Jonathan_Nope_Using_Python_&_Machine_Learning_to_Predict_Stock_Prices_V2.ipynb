{
  "nbformat": 4,
  "nbformat_minor": 0,
  "metadata": {
    "colab": {
      "name": "Using Python & Machine Learning to Predict Stock Prices.ipynb",
      "provenance": [],
      "authorship_tag": "ABX9TyNKTic9fwGK67j7sEvkKtP+",
      "include_colab_link": true
    },
    "kernelspec": {
      "name": "python3",
      "display_name": "Python 3"
    },
    "language_info": {
      "name": "python"
    }
  },
  "cells": [
    {
      "cell_type": "markdown",
      "metadata": {
        "id": "view-in-github",
        "colab_type": "text"
      },
      "source": [
        "<a href=\"https://colab.research.google.com/github/sai8e/StockMarketProject/blob/main/Jonathan_Nope_Using_Python_%26_Machine_Learning_to_Predict_Stock_Prices_V2.ipynb\" target=\"_parent\"><img src=\"https://colab.research.google.com/assets/colab-badge.svg\" alt=\"Open In Colab\"/></a>"
      ]
    },
    {
      "cell_type": "code",
      "metadata": {
        "id": "ViCqa83x0xG2"
      },
      "source": [
        "# Description: This Program uses an artifical recurrent neural network called Long Short Term Memory (LSTM)\n",
        "#              to predict the closing stock price of a corporation (Apple Inc.) using past 60 day stock price."
      ],
      "execution_count": null,
      "outputs": []
    },
    {
      "cell_type": "code",
      "metadata": {
        "id": "YDowZGtIp7ov"
      },
      "source": [
        "!pip install yfinance\n",
        "!pip install requests\n",
        "!pip install lxml\n",
        "!pip install numpy\n",
        "!pip install pandas\n",
        "!pip install --upgrade pandas-datareader\n",
        "!pip install --upgrade yfinance"
      ],
      "execution_count": null,
      "outputs": []
    },
    {
      "cell_type": "code",
      "metadata": {
        "id": "qO1YoDMJ1for"
      },
      "source": [
        "# Import the Libraries\n",
        "import math\n",
        "import pandas_datareader as pdr\n",
        "import numpy as np\n",
        "import pandas as pd\n",
        "from sklearn.preprocessing import MinMaxScaler\n",
        "from keras.models import Sequential\n",
        "from keras.layers import Dense, LSTM\n",
        "import matplotlib.pyplot as plt\n",
        "import matplotlib.dates as mdates\n",
        "import datetime as dt\n",
        "import io\n",
        "import os\n",
        "import csv\n",
        "import glob\n",
        "from google.colab import files"
      ],
      "execution_count": null,
      "outputs": []
    },
    {
      "cell_type": "code",
      "metadata": {
        "id": "UXsZfGztOKGr"
      },
      "source": [
        "#Declare Variables\n",
        "file_ex = \".csv\"\n",
        "compare_data = 'Average'\n",
        "date = dt.datetime.now()\n",
        "end_date = date.strftime('%Y') + '-' + date.strftime('%m') + '-' + date.strftime('%d')\n",
        "start_date = str(int(date.strftime('%Y')) - 10) + '-' + date.strftime('%m') + '-' + date.strftime('%d')"
      ],
      "execution_count": null,
      "outputs": []
    },
    {
      "cell_type": "code",
      "metadata": {
        "colab": {
          "base_uri": "https://localhost:8080/"
        },
        "id": "kyzVdFSA-PjT",
        "outputId": "dd99bb97-f3ad-47e7-ab3d-8f96ccfa187e"
      },
      "source": [
        "#Declare Ticker\n",
        "all_filenames = [i for i in glob.glob(f\"*{file_ex}\")]\n",
        "for file in all_filenames:\n",
        "    os.remove(file)\n",
        "while True:\n",
        "  ticker = input('Please input Ticker (Example \"AAPL\"):')\n",
        "  try:\n",
        "    add_avg = []\n",
        "    add_dayChange = []\n",
        "    df = pdr.get_data_yahoo(ticker, start, end)\n",
        "    previousAVG = 0\n",
        "    open_list = df['Open'].tolist()\n",
        "    close_list = df['Close'].tolist()\n",
        "    for i in range(len(open_list)):\n",
        "        dayAVG = (open_list[i] + close_list[i]) / 2\n",
        "        add_avg.append(dayAVG)\n",
        "        dayAVGChange = (dayAVG - previousAVG)\n",
        "        previousAVG = dayAVG\n",
        "        add_dayChange.append(dayAVGChange)\n",
        "    AVG = np.array(add_avg)\n",
        "    dChange = np.array(add_dayChange)\n",
        "    df['Average'] = AVG.tolist()\n",
        "    df['AVGChange'] = dChange.tolist()\n",
        "    df.to_csv(ticker + file_ex)\n",
        "    df = pd.read_csv(ticker + file_ex)\n",
        "    break\n",
        "  except:\n",
        "    print('Sorry Ticker is not in database! Please Try Again')"
      ],
      "execution_count": null,
      "outputs": [
        {
          "name": "stdout",
          "output_type": "stream",
          "text": [
            "Please input Ticker (Example \"AAPL\"):TSLA\n"
          ]
        }
      ]
    },
    {
      "cell_type": "code",
      "metadata": {
        "id": "sDLSIxDDBEQP",
        "colab": {
          "base_uri": "https://localhost:8080/"
        },
        "outputId": "7c4b9d7b-8f3e-4174-aab3-f165ee30aa6c"
      },
      "source": [
        "print('TICKER: '+ ticker)\n",
        "print(df)"
      ],
      "execution_count": null,
      "outputs": [
        {
          "output_type": "stream",
          "name": "stdout",
          "text": [
            "TICKER: TSLA\n",
            "            Date         High          Low  ...    Adj Close      Average  AVGChange\n",
            "0     2016-11-01    39.700001    37.622002  ...    38.158001    38.883001  38.883001\n",
            "1     2016-11-02    38.540001    37.501999  ...    37.604000    37.806999  -1.076002\n",
            "2     2016-11-03    38.293999    37.408001  ...    37.484001    37.642000  -0.164999\n",
            "3     2016-11-04    38.692001    37.192001  ...    38.112000    37.955999   0.313999\n",
            "4     2016-11-07    38.858002    38.009998  ...    38.641998    38.679998   0.723999\n",
            "...          ...          ...          ...  ...          ...          ...        ...\n",
            "1254  2021-10-26  1094.939941  1001.440002  ...  1018.429993  1021.559967  33.864960\n",
            "1255  2021-10-27  1070.880005  1030.780029  ...  1037.859985  1038.760010  17.200043\n",
            "1256  2021-10-28  1081.000000  1054.199951  ...  1077.040039  1072.675049  33.915039\n",
            "1257  2021-10-29  1115.209961  1073.209961  ...  1114.000000  1097.929993  25.254944\n",
            "1258  2021-11-01  1209.750000  1118.660034  ...  1208.589966  1176.794983  78.864990\n",
            "\n",
            "[1259 rows x 9 columns]\n"
          ]
        }
      ]
    },
    {
      "cell_type": "code",
      "metadata": {
        "colab": {
          "base_uri": "https://localhost:8080/"
        },
        "id": "S-yh9bzxUxnS",
        "outputId": "e09155e0-61a7-44e5-ae2e-0c7b323647c7"
      },
      "source": [
        "df.shape"
      ],
      "execution_count": null,
      "outputs": [
        {
          "output_type": "execute_result",
          "data": {
            "text/plain": [
              "(1259, 9)"
            ]
          },
          "metadata": {},
          "execution_count": 45
        }
      ]
    },
    {
      "cell_type": "code",
      "metadata": {
        "colab": {
          "base_uri": "https://localhost:8080/",
          "height": 521
        },
        "id": "NGP64rJ7MZem",
        "outputId": "3b6e89f6-30a3-4296-9179-5925649ffc3c"
      },
      "source": [
        "#Visualize Close Price\n",
        "plt.figure(figsize=(16,8))\n",
        "plt.title(compare_data + ' History')\n",
        "plt.plot(df['Date'], df[compare_data])\n",
        "plt.xlabel('Date', fontsize=18)\n",
        "plt.ylabel(compare_data +' for Day', fontsize=18)\n",
        "plt.show()"
      ],
      "execution_count": null,
      "outputs": [
        {
          "output_type": "display_data",
          "data": {
            "image/png": "[encoded data removed]",
            "text/plain": [
              "<Figure size 1152x576 with 1 Axes>"
            ]
          },
          "metadata": {
            "needs_background": "light"
          }
        }
      ]
    },
    {
      "cell_type": "code",
      "metadata": {
        "id": "kKjiOykAW-dc"
      },
      "source": [
        "# create a new dataframe  with only the comapre_data column\n",
        "data = df.filter([compare_data])\n",
        "# convert the dataframe to a numpy array\n",
        "dataset = data.values\n",
        "# get the number of rows to train the LSTM model\n",
        "training_data_len = math.ceil(len(dataset)*.80)\n"
      ],
      "execution_count": null,
      "outputs": []
    },
    {
      "cell_type": "code",
      "metadata": {
        "id": "2yMuUwVRv5W-"
      },
      "source": [
        "# Scale the data\n",
        "scaler = MinMaxScaler(feature_range=(0,1))\n",
        "scaled_data = scaler.fit_transform(dataset)"
      ],
      "execution_count": null,
      "outputs": []
    },
    {
      "cell_type": "code",
      "metadata": {
        "id": "9ADy5pVGwcVw"
      },
      "source": [
        "# Create the training dataset\n",
        "# Create the scaled training dataset\n",
        "train_data = scaled_data[0:training_data_len , :]\n",
        "# split the data into x_train and y_train data sets\n",
        "x_train = []\n",
        "y_train = []\n",
        "\n",
        "for i in range(60, len(train_data)):\n",
        "   x_train.append(train_data[i-60:i, 0])\n",
        "   y_train.append(train_data[i, 0])"
      ],
      "execution_count": null,
      "outputs": []
    },
    {
      "cell_type": "code",
      "metadata": {
        "id": "Mbq7TB4FyZ2I"
      },
      "source": [
        "# Convert the x_train and y_train to numpy arrays\n",
        "x_train, y_train = np.array(x_train), np.array(y_train)"
      ],
      "execution_count": null,
      "outputs": []
    },
    {
      "cell_type": "code",
      "metadata": {
        "id": "OaKpUYQEyzmk"
      },
      "source": [
        "#Reshape the data\n",
        "x_train = np.reshape(x_train, (x_train.shape[0], x_train.shape[1], 1))\n",
        "x_train.shape"
      ],
      "execution_count": null,
      "outputs": []
    },
    {
      "cell_type": "code",
      "metadata": {
        "id": "rEZQ0OvOzbwW"
      },
      "source": [
        "# Build LSTM Model\n",
        "model = Sequential()\n",
        "model.add(LSTM(50, return_sequences=True, input_shape= (x_train.shape[1], 1)))\n",
        "model.add(LSTM(50, return_sequences=False))\n",
        "model.add(Dense(25))\n",
        "model.add(Dense(1))"
      ],
      "execution_count": null,
      "outputs": []
    },
    {
      "cell_type": "code",
      "metadata": {
        "id": "BJfiOLPh0MGU"
      },
      "source": [
        "# Compile the model\n",
        "model.compile(optimizer='adam', loss='mean_squared_error')"
      ],
      "execution_count": null,
      "outputs": []
    },
    {
      "cell_type": "code",
      "metadata": {
        "colab": {
          "base_uri": "https://localhost:8080/"
        },
        "id": "uq9A8zap0YIK",
        "outputId": "2572dc4a-f735-4f78-b289-e575afcca49c"
      },
      "source": [
        "# Train the model\n",
        "model.fit(x_train, y_train, batch_size=1, epochs=1)"
      ],
      "execution_count": null,
      "outputs": [
        {
          "output_type": "stream",
          "name": "stdout",
          "text": [
            "1954/1954 [==============================] - 61s 30ms/step - loss: 2.1460e-04\n"
          ]
        },
        {
          "output_type": "execute_result",
          "data": {
            "text/plain": [
              "<keras.callbacks.History at 0x7f6f4052ef90>"
            ]
          },
          "metadata": {},
          "execution_count": 15
        }
      ]
    },
    {
      "cell_type": "code",
      "metadata": {
        "id": "Gw7slv9I1K-g"
      },
      "source": [
        "# Create testing dataset\n",
        "# Create new array containing scaled values \n",
        "test_data = scaled_data[training_data_len - 60: , :]\n",
        "# Create data set x_test and y_test\n",
        "x_test = []\n",
        "y_test = dataset[training_data_len:, :]\n",
        "for i in range(60, len(test_data)):\n",
        "  x_test.append(test_data[i-60:i, 0])\n",
        "  "
      ],
      "execution_count": null,
      "outputs": []
    },
    {
      "cell_type": "code",
      "metadata": {
        "id": "zKXuh76_18RK"
      },
      "source": [
        "# Convert the data to a numpy array\n",
        "x_test = np.array(x_test)"
      ],
      "execution_count": null,
      "outputs": []
    },
    {
      "cell_type": "code",
      "metadata": {
        "id": "VPBB8Rxu2FJD"
      },
      "source": [
        "# Reshape data\n",
        "x_test = np.reshape(x_test, (x_test.shape[0], x_test.shape[1], 1))\n",
        "x_test.shape"
      ],
      "execution_count": null,
      "outputs": []
    },
    {
      "cell_type": "code",
      "metadata": {
        "id": "TD42UoLP2vHv"
      },
      "source": [
        "# Get the models predicted price values\n",
        "predictions = model.predict(x_test)\n",
        "predictions = scaler.inverse_transform(predictions)\n"
      ],
      "execution_count": null,
      "outputs": []
    },
    {
      "cell_type": "code",
      "metadata": {
        "id": "XTRzodyZ3Km1"
      },
      "source": [
        "# Get the root mean squared error (RMSE)\n",
        "rmse = np.sqrt(np.mean(predictions- y_test)**2)\n",
        "rmse"
      ],
      "execution_count": null,
      "outputs": []
    },
    {
      "cell_type": "code",
      "metadata": {
        "id": "_VahKqmQ3vDs"
      },
      "source": [
        "# Plot the date\n",
        "train = data[:training_data_len]\n",
        "valid = data[training_data_len:]\n",
        "valid['Predictions'] = predictions\n",
        "# Visualize the data\n",
        "plt.figure(figsize=(16,8))\n",
        "plt.title('Model')\n",
        "plt.xlabel('Date', fontsize=18)\n",
        "plt.ylabel(compare_data +' for Day', fontsize=18)\n",
        "plt.plot(train[compare_data])\n",
        "plt.plot(valid[[compare_data, 'Predictions']])\n",
        "plt.legend(['Train', 'Val', 'Predictions'], loc='lower right')\n",
        "plt.show()"
      ],
      "execution_count": null,
      "outputs": []
    },
    {
      "cell_type": "code",
      "metadata": {
        "id": "3v2pjBg95YKX"
      },
      "source": [
        "# Show the valid and predicted price\n",
        "valid"
      ],
      "execution_count": null,
      "outputs": []
    }
  ]
}